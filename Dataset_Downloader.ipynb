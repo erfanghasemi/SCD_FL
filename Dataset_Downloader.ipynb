{
  "cells": [
    {
      "cell_type": "markdown",
      "metadata": {
        "id": "view-in-github",
        "colab_type": "text"
      },
      "source": [
        "<a href=\"https://colab.research.google.com/github/erfanghasemi/SCD_FL/blob/main/Dataset_Downloader.ipynb\" target=\"_parent\"><img src=\"https://colab.research.google.com/assets/colab-badge.svg\" alt=\"Open In Colab\"/></a>"
      ]
    },
    {
      "cell_type": "code",
      "execution_count": null,
      "metadata": {
        "id": "zL_pdTgC-Nzh"
      },
      "outputs": [],
      "source": [
        "import pandas as pd\n",
        "from zipfile import ZipFile\n",
        "from io import StringIO, BytesIO, TextIOWrapper\n",
        "import urllib.request\n",
        "from google.colab import drive\n",
        "import os"
      ]
    },
    {
      "cell_type": "code",
      "execution_count": null,
      "metadata": {
        "colab": {
          "base_uri": "https://localhost:8080/"
        },
        "id": "-dSDmJDdYC4R",
        "outputId": "816f7a46-e005-447d-d219-9fcf831ab4e3"
      },
      "outputs": [
        {
          "output_type": "stream",
          "name": "stdout",
          "text": [
            "Mounted at /content/gdrive\n"
          ]
        }
      ],
      "source": [
        "from google.colab import drive\n",
        "drive.flush_and_unmount()\n",
        "drive.mount('/content/drive', force_remount=True)"
      ]
    },
    {
      "cell_type": "code",
      "execution_count": null,
      "metadata": {
        "id": "fxT9RBGrbAzA"
      },
      "outputs": [],
      "source": [
        "root_path = '//content/gdrive/MyDrive/BSc Project/Skin Cancer Datasets/ISIC_Eight_Lesions_Dataset'"
      ]
    },
    {
      "cell_type": "code",
      "execution_count": null,
      "metadata": {
        "id": "cletQDxZKaZB",
        "colab": {
          "base_uri": "https://localhost:8080/",
          "height": 167
        },
        "outputId": "1bd32e59-3a2b-4e22-be90-1c85f43e5805"
      },
      "outputs": [
        {
          "output_type": "error",
          "ename": "FileNotFoundError",
          "evalue": "ignored",
          "traceback": [
            "\u001b[0;31m---------------------------------------------------------------------------\u001b[0m",
            "\u001b[0;31mFileNotFoundError\u001b[0m                         Traceback (most recent call last)",
            "\u001b[0;32m<ipython-input-4-96f438216cfb>\u001b[0m in \u001b[0;36m<cell line: 1>\u001b[0;34m()\u001b[0m\n\u001b[0;32m----> 1\u001b[0;31m \u001b[0mos\u001b[0m\u001b[0;34m.\u001b[0m\u001b[0mchdir\u001b[0m\u001b[0;34m(\u001b[0m\u001b[0mroot_path\u001b[0m\u001b[0;34m)\u001b[0m\u001b[0;34m\u001b[0m\u001b[0;34m\u001b[0m\u001b[0m\n\u001b[0m",
            "\u001b[0;31mFileNotFoundError\u001b[0m: [Errno 2] No such file or directory: '//content/gdrive/MyDrive/BSc Project/Skin Cancer Datasets/ISIC_Eight_Lesions_Dataset'"
          ]
        }
      ],
      "source": [
        "os.chdir(root_path)"
      ]
    },
    {
      "cell_type": "code",
      "execution_count": null,
      "metadata": {
        "id": "_gHTx1PYK1FL",
        "colab": {
          "base_uri": "https://localhost:8080/"
        },
        "outputId": "13272e4f-cad7-433f-f9b4-d07698c34a83"
      },
      "outputs": [
        {
          "output_type": "stream",
          "name": "stdout",
          "text": [
            "--2023-08-01 16:34:32--  https://isic-challenge-data.s3.amazonaws.com/2020/ISIC_2020_Training_JPEG.zip\n",
            "Resolving isic-challenge-data.s3.amazonaws.com (isic-challenge-data.s3.amazonaws.com)... 52.217.169.97, 52.217.231.25, 3.5.29.141, ...\n",
            "Connecting to isic-challenge-data.s3.amazonaws.com (isic-challenge-data.s3.amazonaws.com)|52.217.169.97|:443... connected.\n",
            "HTTP request sent, awaiting response... 200 OK\n",
            "Length: 24707698022 (23G) [application/zip]\n",
            "Saving to: ‘ISIC_2020_Training_JPEG.zip’\n",
            "\n",
            "SIC_2020_Training_J   2%[                    ] 488.00M  31.8MB/s    eta 11m 17s^C\n"
          ]
        }
      ],
      "source": [
        "!wget https://isic-challenge-data.s3.amazonaws.com/2020/ISIC_2020_Training_JPEG.zip"
      ]
    },
    {
      "cell_type": "code",
      "source": [
        "!wget https://isic-challenge-data.s3.amazonaws.com/2020/ISIC_2020_Training_GroundTruth.csv"
      ],
      "metadata": {
        "colab": {
          "base_uri": "https://localhost:8080/"
        },
        "id": "OpKcJRTYE6kS",
        "outputId": "b89ec597-fd25-4519-8bae-1382ac6606c2"
      },
      "execution_count": null,
      "outputs": [
        {
          "output_type": "stream",
          "name": "stdout",
          "text": [
            "--2023-08-01 16:34:47--  https://isic-challenge-data.s3.amazonaws.com/2020/ISIC_2020_Training_GroundTruth.csv\n",
            "Resolving isic-challenge-data.s3.amazonaws.com (isic-challenge-data.s3.amazonaws.com)... 3.5.11.146, 52.217.140.169, 52.216.153.156, ...\n",
            "Connecting to isic-challenge-data.s3.amazonaws.com (isic-challenge-data.s3.amazonaws.com)|3.5.11.146|:443... connected.\n",
            "HTTP request sent, awaiting response... 200 OK\n",
            "Length: 2056020 (2.0M) [text/csv]\n",
            "Saving to: ‘ISIC_2020_Training_GroundTruth.csv’\n",
            "\n",
            "ISIC_2020_Training_ 100%[===================>]   1.96M  --.-KB/s    in 0.1s    \n",
            "\n",
            "2023-08-01 16:34:47 (16.2 MB/s) - ‘ISIC_2020_Training_GroundTruth.csv’ saved [2056020/2056020]\n",
            "\n"
          ]
        }
      ]
    },
    {
      "cell_type": "code",
      "source": [
        "!wget https://isic-challenge-data.s3.amazonaws.com/2020/ISIC_2020_Test_JPEG.zip"
      ],
      "metadata": {
        "colab": {
          "base_uri": "https://localhost:8080/"
        },
        "id": "hz9CDlsaJf-T",
        "outputId": "666924df-d096-4752-a23d-4b45fe937ff4"
      },
      "execution_count": null,
      "outputs": [
        {
          "output_type": "stream",
          "name": "stdout",
          "text": [
            "--2023-08-01 16:34:47--  https://isic-challenge-data.s3.amazonaws.com/2020/ISIC_2020_Test_JPEG.zip\n",
            "Resolving isic-challenge-data.s3.amazonaws.com (isic-challenge-data.s3.amazonaws.com)... 3.5.11.146, 52.217.140.169, 52.216.153.156, ...\n",
            "Connecting to isic-challenge-data.s3.amazonaws.com (isic-challenge-data.s3.amazonaws.com)|3.5.11.146|:443... connected.\n",
            "HTTP request sent, awaiting response... 200 OK\n",
            "Length: 7201949446 (6.7G) [application/zip]\n",
            "Saving to: ‘ISIC_2020_Test_JPEG.zip’\n",
            "\n",
            "ISIC_2020_Test_JPEG   5%[>                   ] 368.00M  49.1MB/s    eta 2m 8s  ^C\n"
          ]
        }
      ]
    },
    {
      "cell_type": "markdown",
      "source": [],
      "metadata": {
        "id": "-t6Rg4rtdmYt"
      }
    },
    {
      "cell_type": "code",
      "source": [
        "!wget https://isic-challenge-data.s3.amazonaws.com/2020/ISIC_2020_Test_Metadata.csv"
      ],
      "metadata": {
        "colab": {
          "base_uri": "https://localhost:8080/"
        },
        "id": "_cyLGYfEJx9I",
        "outputId": "274f9a3e-d6a3-4d06-ea52-7f20973ef74b"
      },
      "execution_count": null,
      "outputs": [
        {
          "output_type": "stream",
          "name": "stdout",
          "text": [
            "--2023-08-01 16:34:55--  https://isic-challenge-data.s3.amazonaws.com/2020/ISIC_2020_Test_Metadata.csv\n",
            "Resolving isic-challenge-data.s3.amazonaws.com (isic-challenge-data.s3.amazonaws.com)... 52.216.162.139, 52.217.10.228, 3.5.28.71, ...\n",
            "Connecting to isic-challenge-data.s3.amazonaws.com (isic-challenge-data.s3.amazonaws.com)|52.216.162.139|:443... connected.\n",
            "HTTP request sent, awaiting response... 200 OK\n",
            "Length: 468938 (458K) [text/csv]\n",
            "Saving to: ‘ISIC_2020_Test_Metadata.csv’\n",
            "\n",
            "ISIC_2020_Test_Meta 100%[===================>] 457.95K  --.-KB/s    in 0.08s   \n",
            "\n",
            "2023-08-01 16:34:55 (5.72 MB/s) - ‘ISIC_2020_Test_Metadata.csv’ saved [468938/468938]\n",
            "\n"
          ]
        }
      ]
    },
    {
      "cell_type": "code",
      "execution_count": null,
      "metadata": {
        "id": "HMl3m3gIb9TG"
      },
      "outputs": [],
      "source": [
        "with ZipFile('/content/gdrive/MyDrive/BSc Project/Skin Cancer Datasets/ISIC_2020_Dataset/ISIC_2020_Training_JPEG.zip', 'r') as zip:\n",
        "    zip.extractall('/content/gdrive/MyDrive/BSc Project/Skin Cancer Datasets/ISIC_2020_Dataset/')"
      ]
    },
    {
      "cell_type": "code",
      "source": [
        "with ZipFile('/content/gdrive/MyDrive/BSc Project/Skin Cancer Datasets/ISIC_2020_Dataset/ISIC_2020_Test_JPEG.zip', 'r') as zip:\n",
        "    zip.extractall('/content/gdrive/MyDrive/BSc Project/Skin Cancer Datasets/ISIC_2020_Dataset/')"
      ],
      "metadata": {
        "id": "-iOayEDRdtbn"
      },
      "execution_count": null,
      "outputs": []
    },
    {
      "cell_type": "code",
      "source": [
        "!wget https://zip.isic-archive.com/download?zsid=eyJ1c2VyIjpudWxsLCJxdWVyeSI6ImltYWdlX3R5cGU6XCJkZXJtb3Njb3BpY1wiIEFORCAoZGlhZ25vc2lzOlwibmV2dXNcIiBPUiBkaWFnbm9zaXM6XCJiYXNhbCBjZWxsIGNhcmNpbm9tYVwiIE9SIGRpYWdub3NpczpcIm1lbGFub21hXCIgT1IgZGlhZ25vc2lzOlwiYWN0aW5pYyBrZXJhdG9zaXNcIiBPUiBkaWFnbm9zaXM6XCJwaWdtZW50ZWQgYmVuaWduIGtlcmF0b3Npc1wiIE9SIGRpYWdub3NpczpcImRlcm1hdG9maWJyb21hXCIgT1IgZGlhZ25vc2lzOlwidmFzY3VsYXIgbGVzaW9uXCIgT1IgZGlhZ25vc2lzOlwic3F1YW1vdXMgY2VsbCBjYXJjaW5vbWFcIikiLCJjb2xsZWN0aW9ucyI6IiJ9:1qKwdM:jGL9anO_fNSHDovrY1hHcm5STnZkKRAhy9np5Qmgnx0"
      ],
      "metadata": {
        "id": "ydbeKz01L5Z6"
      },
      "execution_count": null,
      "outputs": []
    },
    {
      "cell_type": "code",
      "source": [
        "# import requests\n",
        "# file_url = \"https://zip.isic-archive.com/download?zsid=eyJ1c2VyIjpudWxsLCJxdWVyeSI6ImltYWdlX3R5cGU6XCJkZXJtb3Njb3BpY1wiIEFORCAoZGlhZ25vc2lzOlwibmV2dXNcIiBPUiBkaWFnbm9zaXM6XCJiYXNhbCBjZWxsIGNhcmNpbm9tYVwiIE9SIGRpYWdub3NpczpcIm1lbGFub21hXCIgT1IgZGlhZ25vc2lzOlwiYWN0aW5pYyBrZXJhdG9zaXNcIiBPUiBkaWFnbm9zaXM6XCJwaWdtZW50ZWQgYmVuaWduIGtlcmF0b3Npc1wiIE9SIGRpYWdub3NpczpcImRlcm1hdG9maWJyb21hXCIgT1IgZGlhZ25vc2lzOlwidmFzY3VsYXIgbGVzaW9uXCIgT1IgZGlhZ25vc2lzOlwic3F1YW1vdXMgY2VsbCBjYXJjaW5vbWFcIikiLCJjb2xsZWN0aW9ucyI6IiJ9:1qKwdM:jGL9anO_fNSHDovrY1hHcm5STnZkKRAhy9np5Qmgnx0\"\n",
        "\n",
        "# r = requests.get(file_url, stream = True)\n",
        "\n",
        "# with open(\"/content/gdrive/MyDrive/BSc Project/Skin Cancer Datasets/ISIC_Eight_Lesions_Dataset/Dataset.zip\", \"wb\") as file:\n",
        "# \tfor block in r.iter_content(chunk_size = 1024):\n",
        "# \t\tif block:\n",
        "# \t\t\tfile.write(block)\n"
      ],
      "metadata": {
        "id": "v94_OwdktNsN"
      },
      "execution_count": null,
      "outputs": []
    },
    {
      "cell_type": "code",
      "source": [
        "!wget https://zip.isic-archive.com/download?zsid=eyJ1c2VyIjo3MjYxLCJxdWVyeSI6IiIsImNvbGxlY3Rpb25zIjoiMjQ5In0:1qLJXg:FeGikOwE46FJkQFGKBiIGqY_QG_6ggemHVrCqO5T37c"
      ],
      "metadata": {
        "id": "JBwvIbWg2EPy"
      },
      "execution_count": null,
      "outputs": []
    },
    {
      "cell_type": "code",
      "source": [
        "!wget --user=erfann.gh1379@gmail.com --password=HXmh2mksHpAymPg https://zip.isic-archive.com/download?zsid=eyJ1c2VyIjpudWxsLCJxdWVyeSI6IiIsImNvbGxlY3Rpb25zIjoiNjUifQ:1qPRvg:ZMrUzjpdCxoEZQbqva7wtl0sefvFlEQCi9X-Q09P8U8"
      ],
      "metadata": {
        "id": "rKDG0yI49YqE"
      },
      "execution_count": null,
      "outputs": []
    },
    {
      "cell_type": "code",
      "source": [
        "!wget https://isic-challenge-data.s3.amazonaws.com/2019/ISIC_2019_Training_Input.zip"
      ],
      "metadata": {
        "id": "2cKEZxPUthX6"
      },
      "execution_count": null,
      "outputs": []
    },
    {
      "cell_type": "code",
      "source": [
        "!wget https://isic-challenge-data.s3.amazonaws.com/2019/ISIC_2019_Training_Metadata.csv"
      ],
      "metadata": {
        "id": "1_g9nyOx_gKa"
      },
      "execution_count": null,
      "outputs": []
    },
    {
      "cell_type": "code",
      "source": [
        "with ZipFile('/content/gdrive/MyDrive/BSc Project/Skin Cancer Datasets/ISIC_2019_Dataset/ISIC_2019_Training_Input.zip', 'r') as zip:\n",
        "    zip.extractall('/content/gdrive/MyDrive/BSc Project/Skin Cancer Datasets/ISIC_2019_Dataset/')"
      ],
      "metadata": {
        "id": "StQFa9oGBwzp"
      },
      "execution_count": null,
      "outputs": []
    },
    {
      "cell_type": "code",
      "source": [],
      "metadata": {
        "id": "mqrHNG5hDT8Q"
      },
      "execution_count": null,
      "outputs": []
    }
  ],
  "metadata": {
    "colab": {
      "provenance": [],
      "machine_shape": "hm",
      "gpuType": "V100",
      "authorship_tag": "ABX9TyPIePC4XjDDfMEsB2WLcJjC",
      "include_colab_link": true
    },
    "kernelspec": {
      "display_name": "Python 3",
      "name": "python3"
    },
    "language_info": {
      "name": "python"
    }
  },
  "nbformat": 4,
  "nbformat_minor": 0
}