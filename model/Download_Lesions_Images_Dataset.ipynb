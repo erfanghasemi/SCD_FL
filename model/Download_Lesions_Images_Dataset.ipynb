{
  "cells": [
    {
      "cell_type": "markdown",
      "source": [
        "# **Import used libraries**"
      ],
      "metadata": {
        "id": "y-Zy1pAlgJyY"
      }
    },
    {
      "cell_type": "code",
      "execution_count": null,
      "metadata": {
        "id": "zL_pdTgC-Nzh"
      },
      "outputs": [],
      "source": [
        "import pandas as pd\n",
        "from zipfile import ZipFile\n",
        "from io import StringIO, BytesIO, TextIOWrapper\n",
        "import urllib.request\n",
        "from google.colab import drive\n",
        "import os"
      ]
    },
    {
      "cell_type": "markdown",
      "source": [
        "# **Connecting to Google Drive**\n",
        "\n",
        "\n",
        "\n",
        "\n"
      ],
      "metadata": {
        "id": "EyRaOFnVgdAk"
      }
    },
    {
      "cell_type": "markdown",
      "source": [
        "Use `flush_and_unmount` and `force_remount=True` for safe connection.\n",
        "\n",
        "---"
      ],
      "metadata": {
        "id": "RYNAedK-hSRm"
      }
    },
    {
      "cell_type": "code",
      "execution_count": null,
      "metadata": {
        "id": "-dSDmJDdYC4R"
      },
      "outputs": [],
      "source": [
        "from google.colab import drive\n",
        "drive.flush_and_unmount()\n",
        "drive.mount('/content/drive', force_remount=True)"
      ]
    },
    {
      "cell_type": "markdown",
      "source": [
        "# **Helper functions and information are here**"
      ],
      "metadata": {
        "id": "gvmKeL5Bg4vb"
      }
    },
    {
      "cell_type": "markdown",
      "source": [
        "> Specify folders path to access later in code\n",
        "\n"
      ],
      "metadata": {
        "id": "SDa_Dr5Pl8u5"
      }
    },
    {
      "cell_type": "code",
      "execution_count": null,
      "metadata": {
        "id": "fxT9RBGrbAzA"
      },
      "outputs": [],
      "source": [
        "#  Root dataset folder path\n",
        "\n",
        "root_path_ISIC_2019 = '/content/drive/MyDrive/BSc Project/Skin Cancer Datasets/ISIC_2019_Dataset'\n",
        "root_path_ISIC_2020 = '/content/drive/MyDrive/BSc Project/Skin Cancer Datasets/ISIC_2020_Dataset'"
      ]
    },
    {
      "cell_type": "markdown",
      "source": [
        "> Implement function to unzip files\n",
        "\n",
        "\n"
      ],
      "metadata": {
        "id": "Dcmzq5Y5l-Wz"
      }
    },
    {
      "cell_type": "code",
      "source": [
        "def extraxtion_zip(zip_file_path: str, dst_folder_path):\n",
        "  with ZipFile(zip_file_path, 'r') as zip:\n",
        "    zip.extractall(dst_folder_path)\n",
        "    print(\"Extraction process is completed.\")"
      ],
      "metadata": {
        "id": "hm9DJioqdnX1"
      },
      "execution_count": null,
      "outputs": []
    },
    {
      "cell_type": "markdown",
      "source": [
        "# **Download 2020 ISIC Dataset**\n",
        "\n",
        "\n",
        "\n",
        "\n",
        "\n",
        "\n",
        "\n"
      ],
      "metadata": {
        "id": "f9k9FS7UfMlM"
      }
    },
    {
      "cell_type": "markdown",
      "source": [
        "\n",
        "> Some links may be lost, please recheck the ISIC website for use this dataset in your project.\n",
        "\n",
        "\n",
        "\n",
        "\n",
        "\n",
        "\n"
      ],
      "metadata": {
        "id": "aRRRnpnfhn9u"
      }
    },
    {
      "cell_type": "code",
      "execution_count": null,
      "metadata": {
        "id": "_gHTx1PYK1FL"
      },
      "outputs": [],
      "source": [
        "\"\"\" ISIC 2020 dataset download links \"\"\"\n",
        "\n",
        "# move to the ISIC 2020 folder to save files\n",
        "# os.chdir(root_path_ISIC_2020)\n",
        "\n",
        "# !wget https://isic-challenge-data.s3.amazonaws.com/2020/ISIC_2020_Training_JPEG.zip\n",
        "# !wget https://isic-challenge-data.s3.amazonaws.com/2020/ISIC_2020_Training_GroundTruth.csv\n",
        "# !wget https://isic-challenge-data.s3.amazonaws.com/2020/ISIC_2020_Test_JPEG.zip\n",
        "# !wget https://isic-challenge-data.s3.amazonaws.com/2020/ISIC_2020_Test_Metadata.csv"
      ]
    },
    {
      "cell_type": "markdown",
      "source": [
        "> **Extarct your ISIC 2020 zip files with `extraxtion_zip` function.**"
      ],
      "metadata": {
        "id": "oUvVzZJmfSmZ"
      }
    },
    {
      "cell_type": "markdown",
      "source": [
        "# **Download 2019 ISIC Dataset**"
      ],
      "metadata": {
        "id": "ObSxuiMeh0Mu"
      }
    },
    {
      "cell_type": "markdown",
      "source": [
        "> Some links may be lost, please recheck the ISIC website for use this dataset in your project.\n",
        "\n",
        "\n"
      ],
      "metadata": {
        "id": "ZMALvnrsjH9o"
      }
    },
    {
      "cell_type": "code",
      "source": [
        "\"\"\" ISIC 2019 dataset download links \"\"\"\n",
        "\n",
        "# move to the ISIC 2019 folder to save files\n",
        "# os.chdir(root_path_ISIC_2019)\n",
        "\n",
        "# !wget https://zip.isic-archive.com/download?zsid=eyJ1c2VyIjo3MjYxLCJxdWVyeSI6IiIsImNvbGxlY3Rpb25zIjoiMjQ5In0:1qLJXg:FeGikOwE46FJkQFGKBiIGqY_QG_6ggemHVrCqO5T37c\n",
        "# !wget !wget https://isic-challenge-data.s3.amazonaws.com/2019/ISIC_2019_Training_Input.zip\n",
        "# !wget !wget https://isic-challenge-data.s3.amazonaws.com/2019/ISIC_2019_Training_Metadata.csv\n",
        "# !wget !wget https://isic-challenge-data.s3.amazonaws.com/2019/ISIC_2019_Test_Input.csv"
      ],
      "metadata": {
        "id": "ryoHqtvPivEl"
      },
      "execution_count": null,
      "outputs": []
    },
    {
      "cell_type": "markdown",
      "source": [
        "> **Extarct your ISIC 2019 zip files with `extraxtion_zip` function.**\n"
      ],
      "metadata": {
        "id": "zHAFgY3ljAg5"
      }
    }
  ],
  "metadata": {
    "colab": {
      "provenance": [],
      "machine_shape": "hm",
      "gpuType": "V100"
    },
    "kernelspec": {
      "display_name": "Python 3",
      "name": "python3"
    },
    "language_info": {
      "name": "python"
    }
  },
  "nbformat": 4,
  "nbformat_minor": 0
}